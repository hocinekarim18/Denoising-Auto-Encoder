{
  "nbformat": 4,
  "nbformat_minor": 0,
  "metadata": {
    "accelerator": "GPU",
    "colab": {
      "name": "TP_AE_Karim_HOCINE.ipynb",
      "provenance": [],
      "collapsed_sections": [
        "gRAYm2xp_z61"
      ]
    },
    "kernelspec": {
      "display_name": "Python 3",
      "language": "python",
      "name": "python3"
    },
    "language_info": {
      "codemirror_mode": {
        "name": "ipython",
        "version": 3
      },
      "file_extension": ".py",
      "mimetype": "text/x-python",
      "name": "python",
      "nbconvert_exporter": "python",
      "pygments_lexer": "ipython3",
      "version": "3.8.3"
    }
  },
  "cells": [
    {
      "cell_type": "markdown",
      "metadata": {
        "id": "gRAYm2xp_z61"
      },
      "source": [
        "# C8. TP : Auto-Encodeur (en Keras, avec CNN)"
      ]
    },
    {
      "cell_type": "markdown",
      "metadata": {
        "id": "eTixbtt8_z65"
      },
      "source": [
        "# Partie 1 : AE-CNN sur données propres"
      ]
    },
    {
      "cell_type": "markdown",
      "metadata": {
        "id": "Ymkp8HQd_z66"
      },
      "source": [
        "## 1.1 Importation des modules"
      ]
    },
    {
      "cell_type": "code",
      "metadata": {
        "id": "iHRzLKti_z67"
      },
      "source": [
        "# On importe les librairies nécessaires\n",
        "\n",
        "# Le dataset MNIST\n",
        "from tensorflow.keras.datasets import mnist\n",
        "\n",
        "# Les librairies TF pour le DL\n",
        "import tensorflow as tf\n",
        "from tensorflow.keras.layers import Input,Dense, Conv2D, Conv2DTranspose, MaxPooling2D, Flatten, UpSampling2D, Reshape, BatchNormalization, Dropout, Activation\n",
        "from tensorflow.keras.models import Model,Sequential\n",
        "\n",
        "# Les librairies habituelles\n",
        "import numpy as np\n",
        "import matplotlib.pyplot as plt\n",
        "\n",
        "# On configure la session pour l'utilisation de GPU\n",
        "#config = tf.ConfigProto()\n",
        "#config.gpu_options.allow_growth = True\n",
        "#session = tf.Session(config=config)\n",
        "\n",
        "# On désactive les warnings\n",
        "import warnings\n",
        "warnings.filterwarnings('ignore')"
      ],
      "execution_count": 1,
      "outputs": []
    },
    {
      "cell_type": "markdown",
      "metadata": {
        "id": "dpOMFX-S_z69"
      },
      "source": [
        "## 1.2 Définition de fonctions nécessaires"
      ]
    },
    {
      "cell_type": "code",
      "metadata": {
        "id": "ZWse_YeK_z6-"
      },
      "source": [
        "def MNIST_AE_disp(img_in, img_out, img_idx):\n",
        "\n",
        "    num_img = len(img_idx)\n",
        "    plt.figure(figsize=(18, 4))\n",
        "\n",
        "    for i, image_idx in enumerate(img_idx):\n",
        "        # on trace l'image originale\n",
        "        ax = plt.subplot(2, num_img, i + 1)\n",
        "        plt.imshow(img_in[image_idx].reshape(28, 28))\n",
        "        plt.gray()\n",
        "        ax.get_xaxis().set_visible(False)\n",
        "        ax.get_yaxis().set_visible(False)\n",
        "\n",
        "        # on trace l'image bruitée\n",
        "        ax = plt.subplot(2, num_img, num_img + i + 1)\n",
        "        plt.imshow(img_out[image_idx].reshape(28, 28))\n",
        "        plt.gray()\n",
        "        ax.get_xaxis().set_visible(False)\n",
        "        ax.get_yaxis().set_visible(False)\n",
        "    plt.show()\n"
      ],
      "execution_count": 2,
      "outputs": []
    },
    {
      "cell_type": "markdown",
      "metadata": {
        "id": "SH63Zldm_z6_"
      },
      "source": [
        "## 1.3 Chargement et formatage des données (propres)"
      ]
    },
    {
      "cell_type": "code",
      "metadata": {
        "id": "urPy8Tcv_z6_",
        "colab": {
          "base_uri": "https://localhost:8080/"
        },
        "outputId": "021ca04d-3cec-416e-a1b2-111a770bbff9"
      },
      "source": [
        "# On charge les données de MNIST (incluses dans Keras)\n",
        "(x_train, y_train), (x_test, y_test) = mnist.load_data()\n",
        "\n",
        "# On normalise les valeurs des pixels de [0, 255] à [0, 1]\n",
        "x_train=x_train.astype('float32')/float(x_train.max())\n",
        "x_test=x_test.astype('float32')/float(x_test.max())\n",
        "\n",
        "# POUR LES CNN : On rajoute une dimension pour spécifier qu'il s'agit d'imgages en NdG\n",
        "x_train=x_train.reshape(len(x_train),x_train.shape[1], x_train.shape[2], 1)\n",
        "x_test=x_test.reshape(len(x_test),x_test.shape[1], x_test.shape[2], 1)\n",
        "\n",
        "# On inspecte les dimensions de nos données\n",
        "# Base d'entrainement : 60,000 images de dimension (28,28)\n",
        "# Base de test : 10,000 images de dimension (28,28)\n",
        "print(\"Training set : \",x_train.shape)\n",
        "print(\"Testing set : \",x_test.shape)\n"
      ],
      "execution_count": 3,
      "outputs": [
        {
          "output_type": "stream",
          "name": "stdout",
          "text": [
            "Downloading data from https://storage.googleapis.com/tensorflow/tf-keras-datasets/mnist.npz\n",
            "11493376/11490434 [==============================] - 0s 0us/step\n",
            "11501568/11490434 [==============================] - 0s 0us/step\n",
            "Training set :  (60000, 28, 28, 1)\n",
            "Testing set :  (10000, 28, 28, 1)\n"
          ]
        }
      ]
    },
    {
      "cell_type": "code",
      "metadata": {
        "id": "aRHyfq6lwtC_",
        "colab": {
          "base_uri": "https://localhost:8080/"
        },
        "outputId": "7b1cc757-1434-48ba-cc99-ba268d2fcc40"
      },
      "source": [
        "# Noisy data\n",
        "noise_factor = 0.2\n",
        "x_train_noisy = x_train + noise_factor * tf.random.normal(shape=x_train.shape) \n",
        "x_test_noisy = x_test + noise_factor * tf.random.normal(shape=x_test.shape) \n",
        "\n",
        "x_train_noisy = np.clip(x_train_noisy, 0., 1.)\n",
        "x_test_noisy = np.clip(x_test_noisy, 0., 1.)\n"
      ],
      "execution_count": 21,
      "outputs": [
        {
          "output_type": "execute_result",
          "data": {
            "text/plain": [
              "array([[[[0.        ],\n",
              "         [0.11842208],\n",
              "         [0.03368026],\n",
              "         ...,\n",
              "         [0.36496416],\n",
              "         [0.10130536],\n",
              "         [0.        ]],\n",
              "\n",
              "        [[0.11783021],\n",
              "         [0.11097623],\n",
              "         [0.25977293],\n",
              "         ...,\n",
              "         [0.0339019 ],\n",
              "         [0.        ],\n",
              "         [0.10046291]],\n",
              "\n",
              "        [[0.14485298],\n",
              "         [0.14279407],\n",
              "         [0.31825167],\n",
              "         ...,\n",
              "         [0.        ],\n",
              "         [0.06334108],\n",
              "         [0.22345905]],\n",
              "\n",
              "        ...,\n",
              "\n",
              "        [[0.08194137],\n",
              "         [0.41219068],\n",
              "         [0.        ],\n",
              "         ...,\n",
              "         [0.162737  ],\n",
              "         [0.03486095],\n",
              "         [0.15329683]],\n",
              "\n",
              "        [[0.04087375],\n",
              "         [0.        ],\n",
              "         [0.        ],\n",
              "         ...,\n",
              "         [0.        ],\n",
              "         [0.04296394],\n",
              "         [0.0353669 ]],\n",
              "\n",
              "        [[0.        ],\n",
              "         [0.12117641],\n",
              "         [0.        ],\n",
              "         ...,\n",
              "         [0.        ],\n",
              "         [0.3525488 ],\n",
              "         [0.4664302 ]]],\n",
              "\n",
              "\n",
              "       [[[0.2899639 ],\n",
              "         [0.        ],\n",
              "         [0.19287568],\n",
              "         ...,\n",
              "         [0.05641307],\n",
              "         [0.08281767],\n",
              "         [0.        ]],\n",
              "\n",
              "        [[0.        ],\n",
              "         [0.26057336],\n",
              "         [0.20842683],\n",
              "         ...,\n",
              "         [0.13175224],\n",
              "         [0.        ],\n",
              "         [0.13663752]],\n",
              "\n",
              "        [[0.        ],\n",
              "         [0.        ],\n",
              "         [0.04050364],\n",
              "         ...,\n",
              "         [0.        ],\n",
              "         [0.37021342],\n",
              "         [0.1789943 ]],\n",
              "\n",
              "        ...,\n",
              "\n",
              "        [[0.        ],\n",
              "         [0.21690519],\n",
              "         [0.00592039],\n",
              "         ...,\n",
              "         [0.37395164],\n",
              "         [0.        ],\n",
              "         [0.        ]],\n",
              "\n",
              "        [[0.        ],\n",
              "         [0.35885447],\n",
              "         [0.        ],\n",
              "         ...,\n",
              "         [0.36788416],\n",
              "         [0.        ],\n",
              "         [0.04275803]],\n",
              "\n",
              "        [[0.37094232],\n",
              "         [0.        ],\n",
              "         [0.00508719],\n",
              "         ...,\n",
              "         [0.        ],\n",
              "         [0.17636777],\n",
              "         [0.        ]]],\n",
              "\n",
              "\n",
              "       [[[0.        ],\n",
              "         [0.        ],\n",
              "         [0.09710442],\n",
              "         ...,\n",
              "         [0.13994978],\n",
              "         [0.19123308],\n",
              "         [0.        ]],\n",
              "\n",
              "        [[0.        ],\n",
              "         [0.        ],\n",
              "         [0.        ],\n",
              "         ...,\n",
              "         [0.30275324],\n",
              "         [0.12719625],\n",
              "         [0.        ]],\n",
              "\n",
              "        [[0.02347408],\n",
              "         [0.        ],\n",
              "         [0.        ],\n",
              "         ...,\n",
              "         [0.01095485],\n",
              "         [0.        ],\n",
              "         [0.        ]],\n",
              "\n",
              "        ...,\n",
              "\n",
              "        [[0.        ],\n",
              "         [0.        ],\n",
              "         [0.06372599],\n",
              "         ...,\n",
              "         [0.        ],\n",
              "         [0.12071688],\n",
              "         [0.0559111 ]],\n",
              "\n",
              "        [[0.18445443],\n",
              "         [0.        ],\n",
              "         [0.        ],\n",
              "         ...,\n",
              "         [0.1359228 ],\n",
              "         [0.00540386],\n",
              "         [0.        ]],\n",
              "\n",
              "        [[0.        ],\n",
              "         [0.26937872],\n",
              "         [0.31895962],\n",
              "         ...,\n",
              "         [0.        ],\n",
              "         [0.        ],\n",
              "         [0.        ]]],\n",
              "\n",
              "\n",
              "       ...,\n",
              "\n",
              "\n",
              "       [[[0.        ],\n",
              "         [0.        ],\n",
              "         [0.406421  ],\n",
              "         ...,\n",
              "         [0.        ],\n",
              "         [0.0039793 ],\n",
              "         [0.01796493]],\n",
              "\n",
              "        [[0.        ],\n",
              "         [0.02924588],\n",
              "         [0.3642031 ],\n",
              "         ...,\n",
              "         [0.21690868],\n",
              "         [0.18123046],\n",
              "         [0.5230218 ]],\n",
              "\n",
              "        [[0.        ],\n",
              "         [0.        ],\n",
              "         [0.12918304],\n",
              "         ...,\n",
              "         [0.40010118],\n",
              "         [0.        ],\n",
              "         [0.        ]],\n",
              "\n",
              "        ...,\n",
              "\n",
              "        [[0.        ],\n",
              "         [0.        ],\n",
              "         [0.01417854],\n",
              "         ...,\n",
              "         [0.        ],\n",
              "         [0.        ],\n",
              "         [0.        ]],\n",
              "\n",
              "        [[0.05842673],\n",
              "         [0.        ],\n",
              "         [0.        ],\n",
              "         ...,\n",
              "         [0.53962535],\n",
              "         [0.        ],\n",
              "         [0.        ]],\n",
              "\n",
              "        [[0.08533421],\n",
              "         [0.03748282],\n",
              "         [0.16334891],\n",
              "         ...,\n",
              "         [0.        ],\n",
              "         [0.09139957],\n",
              "         [0.        ]]],\n",
              "\n",
              "\n",
              "       [[[0.04286097],\n",
              "         [0.        ],\n",
              "         [0.13370922],\n",
              "         ...,\n",
              "         [0.01206719],\n",
              "         [0.        ],\n",
              "         [0.1696579 ]],\n",
              "\n",
              "        [[0.00657371],\n",
              "         [0.        ],\n",
              "         [0.37574553],\n",
              "         ...,\n",
              "         [0.24571724],\n",
              "         [0.        ],\n",
              "         [0.04582614]],\n",
              "\n",
              "        [[0.        ],\n",
              "         [0.17233887],\n",
              "         [0.27615318],\n",
              "         ...,\n",
              "         [0.        ],\n",
              "         [0.0242113 ],\n",
              "         [0.        ]],\n",
              "\n",
              "        ...,\n",
              "\n",
              "        [[0.1849353 ],\n",
              "         [0.17257914],\n",
              "         [0.        ],\n",
              "         ...,\n",
              "         [0.23251525],\n",
              "         [0.        ],\n",
              "         [0.12168157]],\n",
              "\n",
              "        [[0.16233207],\n",
              "         [0.08926012],\n",
              "         [0.29785088],\n",
              "         ...,\n",
              "         [0.        ],\n",
              "         [0.14792906],\n",
              "         [0.        ]],\n",
              "\n",
              "        [[0.        ],\n",
              "         [0.        ],\n",
              "         [0.16405632],\n",
              "         ...,\n",
              "         [0.18377733],\n",
              "         [0.        ],\n",
              "         [0.1904648 ]]],\n",
              "\n",
              "\n",
              "       [[[0.26105806],\n",
              "         [0.00167909],\n",
              "         [0.        ],\n",
              "         ...,\n",
              "         [0.20050834],\n",
              "         [0.        ],\n",
              "         [0.36880618]],\n",
              "\n",
              "        [[0.0261341 ],\n",
              "         [0.0968041 ],\n",
              "         [0.11336935],\n",
              "         ...,\n",
              "         [0.0492281 ],\n",
              "         [0.1709033 ],\n",
              "         [0.        ]],\n",
              "\n",
              "        [[0.        ],\n",
              "         [0.        ],\n",
              "         [0.        ],\n",
              "         ...,\n",
              "         [0.        ],\n",
              "         [0.09334751],\n",
              "         [0.07792925]],\n",
              "\n",
              "        ...,\n",
              "\n",
              "        [[0.        ],\n",
              "         [0.        ],\n",
              "         [0.        ],\n",
              "         ...,\n",
              "         [0.        ],\n",
              "         [0.        ],\n",
              "         [0.31308147]],\n",
              "\n",
              "        [[0.12260737],\n",
              "         [0.29486343],\n",
              "         [0.        ],\n",
              "         ...,\n",
              "         [0.06946402],\n",
              "         [0.        ],\n",
              "         [0.03861831]],\n",
              "\n",
              "        [[0.04698358],\n",
              "         [0.        ],\n",
              "         [0.        ],\n",
              "         ...,\n",
              "         [0.        ],\n",
              "         [0.3957667 ],\n",
              "         [0.        ]]]], dtype=float32)"
            ]
          },
          "metadata": {},
          "execution_count": 21
        }
      ]
    },
    {
      "cell_type": "markdown",
      "metadata": {
        "id": "Vsi-HXuI_z7B"
      },
      "source": [
        "## 1.4 Création du réseau CNN"
      ]
    },
    {
      "cell_type": "code",
      "metadata": {
        "id": "xRH5maAHvIWX"
      },
      "source": [
        "from tensorflow.keras import layers, losses\n",
        "class Denoise(Model):\n",
        "  def __init__(self):\n",
        "    super(Denoise, self).__init__()\n",
        "    self.encoder = tf.keras.Sequential([\n",
        "      layers.Input(shape=(28, 28, 1)),\n",
        "      layers.Conv2D(16, (3, 3), activation='relu', padding='same', strides=2),\n",
        "      layers.Conv2D(8, (3, 3), activation='relu', padding='same', strides=2)])\n",
        "\n",
        "    self.decoder = tf.keras.Sequential([\n",
        "      layers.Conv2DTranspose(8, kernel_size=3, strides=2, activation='relu', padding='same'),\n",
        "      layers.Conv2DTranspose(16, kernel_size=3, strides=2, activation='relu', padding='same'),\n",
        "      layers.Conv2D(1, kernel_size=(3, 3), activation='sigmoid', padding='same')])\n",
        "\n",
        "  def call(self, x):\n",
        "    encoded = self.encoder(x)\n",
        "    decoded = self.decoder(encoded)\n",
        "    return decoded\n",
        "\n",
        "autoencoder = Denoise()\n",
        "autoencoder.compile(optimizer='adam', loss=losses.MeanSquaredError())\n"
      ],
      "execution_count": 5,
      "outputs": []
    },
    {
      "cell_type": "markdown",
      "metadata": {
        "id": "tTwezFNQ_z7C"
      },
      "source": [
        "## 1.5 Apprentissage du réseau"
      ]
    },
    {
      "cell_type": "code",
      "metadata": {
        "id": "Btmw57Xp_z7D",
        "colab": {
          "base_uri": "https://localhost:8080/"
        },
        "outputId": "fe2b6aa8-ccdd-4d89-9ef0-200f9b3203b1"
      },
      "source": [
        "autoencoder.fit(x_train, x_train,\n",
        "                epochs=10,\n",
        "                shuffle=True,\n",
        "                validation_data=(x_test, x_test))"
      ],
      "execution_count": 6,
      "outputs": [
        {
          "output_type": "stream",
          "name": "stdout",
          "text": [
            "Epoch 1/10\n",
            "1875/1875 [==============================] - 25s 6ms/step - loss: 0.0108 - val_loss: 0.0017\n",
            "Epoch 2/10\n",
            "1875/1875 [==============================] - 11s 6ms/step - loss: 0.0015 - val_loss: 0.0012\n",
            "Epoch 3/10\n",
            "1875/1875 [==============================] - 11s 6ms/step - loss: 0.0011 - val_loss: 0.0010\n",
            "Epoch 4/10\n",
            "1875/1875 [==============================] - 11s 6ms/step - loss: 0.0010 - val_loss: 9.4879e-04\n",
            "Epoch 5/10\n",
            "1875/1875 [==============================] - 12s 6ms/step - loss: 9.1935e-04 - val_loss: 8.7219e-04\n",
            "Epoch 6/10\n",
            "1875/1875 [==============================] - 11s 6ms/step - loss: 8.5183e-04 - val_loss: 7.7592e-04\n",
            "Epoch 7/10\n",
            "1875/1875 [==============================] - 11s 6ms/step - loss: 7.5302e-04 - val_loss: 7.1388e-04\n",
            "Epoch 8/10\n",
            "1875/1875 [==============================] - 12s 6ms/step - loss: 7.1833e-04 - val_loss: 6.9950e-04\n",
            "Epoch 9/10\n",
            "1875/1875 [==============================] - 12s 6ms/step - loss: 6.9552e-04 - val_loss: 6.7064e-04\n",
            "Epoch 10/10\n",
            "1875/1875 [==============================] - 11s 6ms/step - loss: 6.7866e-04 - val_loss: 6.6173e-04\n"
          ]
        },
        {
          "output_type": "execute_result",
          "data": {
            "text/plain": [
              "<keras.callbacks.History at 0x7f9ff0525d90>"
            ]
          },
          "metadata": {},
          "execution_count": 6
        }
      ]
    },
    {
      "cell_type": "markdown",
      "metadata": {
        "id": "3YUAT2Os_z7E"
      },
      "source": [
        "## 1.6 Prédiction par le réseau"
      ]
    },
    {
      "cell_type": "code",
      "metadata": {
        "id": "lt3Brnvn_z7E",
        "colab": {
          "base_uri": "https://localhost:8080/"
        },
        "outputId": "b8cb65c6-6606-4acc-9c91-a07bcccdd953"
      },
      "source": [
        "# On génère un jeu de 10 images test au hasard\n",
        "num_images=10\n",
        "np.random.seed(42)\n",
        "random_test_images=np.random.randint(x_test.shape[0], size=num_images)\n",
        "\n",
        "# On détermine l'image encodée et l'image décodée\n",
        "decoded_img=autoencoder.predict(x_test)\n",
        "print(\"decoded shape =\", decoded_img.shape)"
      ],
      "execution_count": 7,
      "outputs": [
        {
          "output_type": "stream",
          "name": "stdout",
          "text": [
            "decoded shape = (10000, 28, 28, 1)\n"
          ]
        }
      ]
    },
    {
      "cell_type": "markdown",
      "metadata": {
        "id": "h858oSvV_z7F"
      },
      "source": [
        "## 1.7 Visualisation"
      ]
    },
    {
      "cell_type": "code",
      "metadata": {
        "id": "IM1BKx5s_z7G",
        "colab": {
          "base_uri": "https://localhost:8080/",
          "height": 238
        },
        "outputId": "0adf3ec9-80dd-4400-db7f-754b43788d2b"
      },
      "source": [
        "MNIST_AE_disp(x_test, decoded_img, random_test_images)"
      ],
      "execution_count": 8,
      "outputs": [
        {
          "output_type": "display_data",
          "data": {
            "image/png": "[encoded data removed]",
            "text/plain": [
              "<Figure size 1296x288 with 20 Axes>"
            ]
          },
          "metadata": {
            "needs_background": "light"
          }
        }
      ]
    },
    {
      "cell_type": "code",
      "metadata": {
        "colab": {
          "base_uri": "https://localhost:8080/"
        },
        "id": "2z-vYPUlPKlO",
        "outputId": "caad1f04-98a7-45a0-9e8f-b42462d5831c"
      },
      "source": [
        "autoencoder.fit(x_train_noisy, x_train,\n",
        "                epochs=10,\n",
        "                shuffle=True,\n",
        "                validation_data=(x_test_noisy, x_test))"
      ],
      "execution_count": 9,
      "outputs": [
        {
          "output_type": "stream",
          "name": "stdout",
          "text": [
            "Epoch 1/10\n",
            "1875/1875 [==============================] - 11s 6ms/step - loss: 0.0034 - val_loss: 0.0032\n",
            "Epoch 2/10\n",
            "1875/1875 [==============================] - 11s 6ms/step - loss: 0.0032 - val_loss: 0.0031\n",
            "Epoch 3/10\n",
            "1875/1875 [==============================] - 11s 6ms/step - loss: 0.0032 - val_loss: 0.0031\n",
            "Epoch 4/10\n",
            "1875/1875 [==============================] - 11s 6ms/step - loss: 0.0031 - val_loss: 0.0031\n",
            "Epoch 5/10\n",
            "1875/1875 [==============================] - 11s 6ms/step - loss: 0.0031 - val_loss: 0.0030\n",
            "Epoch 6/10\n",
            "1875/1875 [==============================] - 11s 6ms/step - loss: 0.0031 - val_loss: 0.0030\n",
            "Epoch 7/10\n",
            "1875/1875 [==============================] - 12s 6ms/step - loss: 0.0030 - val_loss: 0.0030\n",
            "Epoch 8/10\n",
            "1875/1875 [==============================] - 12s 6ms/step - loss: 0.0030 - val_loss: 0.0030\n",
            "Epoch 9/10\n",
            "1875/1875 [==============================] - 11s 6ms/step - loss: 0.0030 - val_loss: 0.0030\n",
            "Epoch 10/10\n",
            "1875/1875 [==============================] - 11s 6ms/step - loss: 0.0030 - val_loss: 0.0029\n"
          ]
        },
        {
          "output_type": "execute_result",
          "data": {
            "text/plain": [
              "<keras.callbacks.History at 0x7f9f78c2f7d0>"
            ]
          },
          "metadata": {},
          "execution_count": 9
        }
      ]
    },
    {
      "cell_type": "code",
      "metadata": {
        "colab": {
          "base_uri": "https://localhost:8080/"
        },
        "id": "wLsP5fyCPKlO",
        "outputId": "f61e64d5-6b66-4878-efa4-9446297122cb"
      },
      "source": [
        "# On génère un jeu de 10 images test au hasard\n",
        "num_images=10\n",
        "np.random.seed(42)\n",
        "random_test_images=np.random.randint(x_test_noisy.shape[0], size=num_images)\n",
        "\n",
        "# On détermine l'image encodée et l'image décodée\n",
        "decoded_img=autoencoder.predict(x_test_noisy)\n",
        "print(\"decoded shape =\", decoded_img.shape)"
      ],
      "execution_count": 16,
      "outputs": [
        {
          "output_type": "stream",
          "name": "stdout",
          "text": [
            "decoded shape = (10000, 28, 28, 1)\n"
          ]
        }
      ]
    },
    {
      "cell_type": "code",
      "metadata": {
        "colab": {
          "base_uri": "https://localhost:8080/",
          "height": 238
        },
        "id": "CPODB66cPKlO",
        "outputId": "0cdc51fc-c9cc-466d-9c54-e137c0a7a31f"
      },
      "source": [
        "MNIST_AE_disp(x_test_noisy, decoded_img, random_test_images)"
      ],
      "execution_count": 22,
      "outputs": [
        {
          "output_type": "display_data",
          "data": {
            "image/png": "[encoded data removed]",
            "text/plain": [
              "<Figure size 1296x288 with 20 Axes>"
            ]
          },
          "metadata": {
            "needs_background": "light"
          }
        }
      ]
    },
    {
      "cell_type": "code",
      "metadata": {
        "id": "Wi9-leqJRFeC"
      },
      "source": [
        ""
      ],
      "execution_count": null,
      "outputs": []
    }
  ]
}